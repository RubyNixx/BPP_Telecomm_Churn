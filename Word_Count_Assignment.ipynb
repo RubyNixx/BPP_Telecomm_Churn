{
  "nbformat": 4,
  "nbformat_minor": 0,
  "metadata": {
    "colab": {
      "provenance": [],
      "authorship_tag": "ABX9TyPyy4zr6IaHdg5DaI9Elt+s",
      "include_colab_link": true
    },
    "kernelspec": {
      "name": "python3",
      "display_name": "Python 3"
    },
    "language_info": {
      "name": "python"
    }
  },
  "cells": [
    {
      "cell_type": "markdown",
      "metadata": {
        "id": "view-in-github",
        "colab_type": "text"
      },
      "source": [
        "<a href=\"https://colab.research.google.com/github/RubyNixx/BPP_Telecomm_Churn/blob/main/Word_Count_Assignment.ipynb\" target=\"_parent\"><img src=\"https://colab.research.google.com/assets/colab-badge.svg\" alt=\"Open In Colab\"/></a>"
      ]
    },
    {
      "cell_type": "code",
      "execution_count": 25,
      "metadata": {
        "id": "5P5pOtGFm8Dn"
      },
      "outputs": [],
      "source": [
        "# supply filename\n",
        "file_name = \"/content/Programming_For_Analysts_Business_Problem_Final.ipynb\""
      ]
    },
    {
      "cell_type": "code",
      "source": [
        "# how many words have you got in your references?\n",
        "references_count = 31"
      ],
      "metadata": {
        "id": "5DodeHM8nC4M"
      },
      "execution_count": 30,
      "outputs": []
    },
    {
      "cell_type": "code",
      "source": [
        "print(file_name)"
      ],
      "metadata": {
        "colab": {
          "base_uri": "https://localhost:8080/"
        },
        "id": "U7Uk90rLnFRH",
        "outputId": "cf8c25c4-23a3-4d14-b247-07647ebe8eb8"
      },
      "execution_count": 27,
      "outputs": [
        {
          "output_type": "stream",
          "name": "stdout",
          "text": [
            "/content/Programming_For_Analysts_Business_Problem_Final.ipynb\n"
          ]
        }
      ]
    },
    {
      "cell_type": "code",
      "source": [
        "def wordcount(file_name, references_count, as_version=3):\n",
        "    import nbformat\n",
        "    nb = nbformat.read(file_name, as_version=3)\n",
        "    heading, markdown, code, totaltext = (int(False) for i in range(4))\n",
        "    for cell in nb.worksheets[0].cells:\n",
        "        if cell.cell_type == \"heading\":\n",
        "            heading += len(cell['source'].replace('#', '').lstrip().split(' '))\n",
        "        elif cell.cell_type == \"markdown\":\n",
        "            markdown += len(cell['source'].replace('#', '').lstrip().split(' '))\n",
        "        elif cell.cell_type == \"code\":\n",
        "            code += len(cell['input'].replace('#', '').lstrip().split(' '))\n",
        "    heading = heading-2 #Manually remove wordcount in References cell/ heading cell\n",
        "    markdown = markdown-references_count #Manually remove wordcount in References cell\n",
        "    totaltext = heading+markdown\n",
        "    print(\"Counts:\\nHeadings = %s\\nMarkdown = %s\\nCode = %s\\nTotalText = %s\" %(heading,\n",
        "                                                                            markdown,\n",
        "                                                                            code,\n",
        "                                                                            totaltext))"
      ],
      "metadata": {
        "id": "4Vuxaz56nHqw"
      },
      "execution_count": 28,
      "outputs": []
    },
    {
      "cell_type": "code",
      "source": [
        "# Now call the function\n",
        "wordcount(file_name, 10)"
      ],
      "metadata": {
        "colab": {
          "base_uri": "https://localhost:8080/"
        },
        "id": "BChRHZU2nLn6",
        "outputId": "fcd65e6b-5143-42ce-f598-8f2aaa2be65d"
      },
      "execution_count": 29,
      "outputs": [
        {
          "output_type": "stream",
          "name": "stdout",
          "text": [
            "Counts:\n",
            "Headings = 109\n",
            "Markdown = 906\n",
            "Code = 5520\n",
            "TotalText = 1015\n"
          ]
        }
      ]
    }
  ]
}